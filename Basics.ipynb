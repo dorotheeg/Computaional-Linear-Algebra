{
  "nbformat": 4,
  "nbformat_minor": 0,
  "metadata": {
    "colab": {
      "name": "dcg2150_Lab1_CLA.ipynb",
      "provenance": []
    },
    "kernelspec": {
      "name": "python3",
      "display_name": "Python 3"
    }
  },
  "cells": [
    {
      "cell_type": "code",
      "metadata": {
        "id": "-dL6Crmi7bVU",
        "colab_type": "code",
        "colab": {
          "base_uri": "https://localhost:8080/",
          "height": 52
        },
        "outputId": "295800f7-3a8d-4f20-c762-6a136b3d96a5"
      },
      "source": [
        "import numpy as np      # imports the numpy package\n",
        "import math             # imports the math package\n",
        "import sys, os          # imports system-related packages\n",
        "import time             # imports time-related packages\n",
        "\n",
        "print(sys.version)"
      ],
      "execution_count": null,
      "outputs": [
        {
          "output_type": "stream",
          "text": [
            "3.6.9 (default, Nov  7 2019, 10:44:02) \n",
            "[GCC 8.3.0]\n"
          ],
          "name": "stdout"
        }
      ]
    },
    {
      "cell_type": "markdown",
      "metadata": {
        "id": "Hp1cuI5Dd8pA",
        "colab_type": "text"
      },
      "source": [
        "Problem 1:"
      ]
    },
    {
      "cell_type": "code",
      "metadata": {
        "id": "eY-iiz4SfOVa",
        "colab_type": "code",
        "colab": {
          "base_uri": "https://localhost:8080/",
          "height": 994
        },
        "outputId": "f50bc3d5-5478-4c85-e01c-481839e9c130"
      },
      "source": [
        "# this is a function, by the way\n",
        "def PROBLEM1():\n",
        "    # Try to keep your code within 80 columns which is this line you see here  >\n",
        "    # If you need more space, you can use backslash \\ and get more space.\n",
        "    # https://docs.python.org/3/reference/lexical_analysis.html#explicit-line-joining\n",
        "    \n",
        "    # YOUR CODE GOES HERE\n",
        "\n",
        "    for count in range(1,16):\n",
        "      print (count)\n",
        "      if count % 2 == 0:\n",
        "        print(\"snap\")\n",
        "      elif count %3 == 0:\n",
        "        print(\"crackle\")\n",
        "      if count % 5 == 0:\n",
        "        x = 0\n",
        "        while x < int(count):\n",
        "         print(\"pop\")\n",
        "         x+=1\n",
        "\n",
        "    # no need to return anything\n",
        "    return None\n",
        "\n",
        "# DO NOT MODIFY\n",
        "PROBLEM1()"
      ],
      "execution_count": null,
      "outputs": [
        {
          "output_type": "stream",
          "text": [
            "1\n",
            "2\n",
            "snap\n",
            "3\n",
            "crackle\n",
            "4\n",
            "snap\n",
            "5\n",
            "pop\n",
            "pop\n",
            "pop\n",
            "pop\n",
            "pop\n",
            "6\n",
            "snap\n",
            "7\n",
            "8\n",
            "snap\n",
            "9\n",
            "crackle\n",
            "10\n",
            "snap\n",
            "pop\n",
            "pop\n",
            "pop\n",
            "pop\n",
            "pop\n",
            "pop\n",
            "pop\n",
            "pop\n",
            "pop\n",
            "pop\n",
            "11\n",
            "12\n",
            "snap\n",
            "13\n",
            "14\n",
            "snap\n",
            "15\n",
            "crackle\n",
            "pop\n",
            "pop\n",
            "pop\n",
            "pop\n",
            "pop\n",
            "pop\n",
            "pop\n",
            "pop\n",
            "pop\n",
            "pop\n",
            "pop\n",
            "pop\n",
            "pop\n",
            "pop\n",
            "pop\n"
          ],
          "name": "stdout"
        }
      ]
    },
    {
      "cell_type": "markdown",
      "metadata": {
        "id": "tMZg2bfNfE6Y",
        "colab_type": "text"
      },
      "source": [
        "Problem 2:"
      ]
    },
    {
      "cell_type": "code",
      "metadata": {
        "id": "-F7XYBg5fHwE",
        "colab_type": "code",
        "colab": {
          "base_uri": "https://localhost:8080/",
          "height": 34
        },
        "outputId": "274463aa-520b-48b2-92c5-4bc8ec97ae86"
      },
      "source": [
        "# input_list is an argument to the function, you can use it.\n",
        "def PROBLEM2(input_list):\n",
        "    # YOUR CODE GOES HERE\n",
        "    temp =[]\n",
        "    shortlist = []\n",
        "    for x in input_list:\n",
        "      if len(x) > 5:\n",
        "        temp.append(len(x))\n",
        "      else:\n",
        "        shortlist.append(x)\n",
        "\n",
        "    avg = (sum(temp) / len(temp))\n",
        "\n",
        "\n",
        "\n",
        "    # you can return multiple values in python!\n",
        "    return avg, shortlist\n",
        "\n",
        "# DO NOT MODIFY\n",
        "ex = [\"hello\", \"this\", \"is\", \"example\", \"demonstrating\", \"problem\", \"statement\"]\n",
        "print(PROBLEM2(ex))"
      ],
      "execution_count": null,
      "outputs": [
        {
          "output_type": "stream",
          "text": [
            "(9.0, ['hello', 'this', 'is'])\n"
          ],
          "name": "stdout"
        }
      ]
    },
    {
      "cell_type": "markdown",
      "metadata": {
        "id": "SyhznygriIg2",
        "colab_type": "text"
      },
      "source": [
        "Problem 3:"
      ]
    },
    {
      "cell_type": "code",
      "metadata": {
        "id": "llGdirELiKYV",
        "colab_type": "code",
        "colab": {
          "base_uri": "https://localhost:8080/",
          "height": 265
        },
        "outputId": "dc1bffcc-62f5-4670-f43f-dcd10769b082"
      },
      "source": [
        "\n",
        "\n",
        "def PROBLEM3(input_matrix):\n",
        "    # YOUR CODE GOES HERE\n",
        "    \n",
        "    ans = np.array(input_matrix[:,3::2][::2][:4][:, :-1])\n",
        "    \n",
        "\n",
        "    output_matrix = ans\n",
        "\n",
        "\n",
        "    return output_matrix\n",
        "\n",
        "# DO NOT MODIFY\n",
        "np.random.seed(3251)\n",
        "example = np.random.randint(0, 10, (10,10))\n",
        "print(example)\n",
        "print(PROBLEM3(example))"
      ],
      "execution_count": null,
      "outputs": [
        {
          "output_type": "stream",
          "text": [
            "[[5 3 0 3 6 9 3 2 0 6]\n",
            " [0 6 8 3 5 1 8 2 9 8]\n",
            " [5 3 3 9 0 4 8 6 3 9]\n",
            " [6 0 5 2 1 5 2 4 9 1]\n",
            " [6 7 3 6 1 0 1 4 4 9]\n",
            " [5 8 0 1 7 3 1 1 8 7]\n",
            " [0 8 7 2 5 3 8 9 6 5]\n",
            " [6 5 2 0 0 1 7 7 3 0]\n",
            " [8 0 0 3 6 5 3 8 0 8]\n",
            " [1 2 6 2 7 3 7 3 2 7]]\n",
            "[[3 9 2]\n",
            " [9 4 6]\n",
            " [6 0 4]\n",
            " [2 3 9]]\n"
          ],
          "name": "stdout"
        }
      ]
    },
    {
      "cell_type": "code",
      "metadata": {
        "id": "wWbBxEaPkajD",
        "colab_type": "code",
        "colab": {}
      },
      "source": [
        ""
      ],
      "execution_count": null,
      "outputs": []
    },
    {
      "cell_type": "markdown",
      "metadata": {
        "id": "iMygHSr1qpHV",
        "colab_type": "text"
      },
      "source": [
        "Problem 4:"
      ]
    },
    {
      "cell_type": "code",
      "metadata": {
        "id": "c5ExLmJ8qqd7",
        "colab_type": "code",
        "colab": {
          "base_uri": "https://localhost:8080/",
          "height": 34
        },
        "outputId": "7096be79-d533-483f-ea00-5cd86f545696"
      },
      "source": [
        "A = np.array([[-1, 0, 2],\n",
        "             [0, 1, 4]])\n",
        "B = np.array([[-2],\n",
        "             [1]])\n",
        "C = np.array([[3, 1], \n",
        "              [0, 0],\n",
        "              [-2, -1]])\n",
        "D = np.array([[5, -3]])\n",
        "E = np.array([[-4, 2]])\n",
        "\n",
        "def PROBLEM4(A, B, C, D, E):\n",
        "    # YOUR CODE GOES HERE\n",
        "    \n",
        "    \n",
        "    part1 = (np.dot(A.transpose(), B))\n",
        "    part2 = (np.dot(C, (np.transpose(D + E))))\n",
        "    result = (np.vdot(part1, part2))\n",
        "\n",
        "    return result\n",
        "\n",
        "# DO NOT MODIFY\n",
        "print(PROBLEM4(A, B, C, D, E))"
      ],
      "execution_count": null,
      "outputs": [
        {
          "output_type": "stream",
          "text": [
            "4\n"
          ],
          "name": "stdout"
        }
      ]
    },
    {
      "cell_type": "markdown",
      "metadata": {
        "id": "0thqux7Is0T_",
        "colab_type": "text"
      },
      "source": [
        "Problem 5:"
      ]
    },
    {
      "cell_type": "code",
      "metadata": {
        "id": "7GmVdQ5Gs4CI",
        "colab_type": "code",
        "colab": {
          "base_uri": "https://localhost:8080/",
          "height": 52
        },
        "outputId": "de24cd11-8c54-460a-a408-a618b1f016f8"
      },
      "source": [
        "def P5VER1(A, B, x, y):\n",
        "    # (a) Implement (A + B)(x + y) here.\n",
        "    # YOUR CODE GOES HERE\n",
        "    answer = ((A+B) * (x + y))\n",
        "\n",
        "\n",
        "    return None\n",
        "\n",
        "def P5VER2(A, B, x, y):\n",
        "    # (a) Implement Ax + Ay + Bx + By here.\n",
        "    # YOUR CODE GOES HERE\n",
        "    answer2 = A*x + A*y + B*x + B*y\n",
        "\n",
        "\n",
        "    return None\n",
        "\n",
        "# DO NOT MODIFY\n",
        "A = np.random.rand(1000, 2000)\n",
        "B = np.random.rand(1000, 2000)\n",
        "x = np.random.rand(1, 2000)\n",
        "y = np.random.rand(1, 2000)\n",
        "\n",
        "start = time.time()\n",
        "P5VER1(A, B, x, y)\n",
        "end = time.time()\n",
        "print(\"Version 1 finished in:\", end-start, \"seconds.\")\n",
        "\n",
        "start = time.time()\n",
        "P5VER2(A, B, x, y)\n",
        "end = time.time()\n",
        "print(\"Version 2 finished in:\", end-start, \"seconds.\")"
      ],
      "execution_count": null,
      "outputs": [
        {
          "output_type": "stream",
          "text": [
            "Version 1 finished in: 0.016765832901000977 seconds.\n",
            "Version 2 finished in: 0.025791406631469727 seconds.\n"
          ],
          "name": "stdout"
        }
      ]
    },
    {
      "cell_type": "markdown",
      "metadata": {
        "id": "-Xsb_LjCtmHc",
        "colab_type": "text"
      },
      "source": [
        "Problem 6:"
      ]
    },
    {
      "cell_type": "markdown",
      "metadata": {
        "id": "x10kpQzNttEo",
        "colab_type": "text"
      },
      "source": [
        "**(a):** edit this text cell and write out your system of equations below. $\\LaTeX$ can be used by placing each equation between dollar signs.\n",
        "\n",
        "$y = 1$ \\\\\n",
        "$w - 2y  = 0$ \\\\\n",
        "$w - z = 0$ \\\\\n",
        "$2x-3y -2z = 0$ \\\\\n",
        "\n",
        "$w$FeS + $x$O$_2$ $\\rightarrow$ $y$Fe$_2$O$_3$ + $z$SO$_2$\n",
        "\n",
        "\n",
        "**Given:** y = 1"
      ]
    },
    {
      "cell_type": "code",
      "metadata": {
        "id": "wvKEwg3Et361",
        "colab_type": "code",
        "colab": {}
      },
      "source": [
        "# (b)\n",
        "# Define your matrix representation here as a numpy array:\n",
        "\n",
        "A = np.array([[0, 0, 1, 0],\n",
        "              [1, 0, -2, 0],\n",
        "              [1, 0, 0, -1],\n",
        "              [0, 2, -3, -2]])\n",
        "\n",
        "b = np.array([1, 0, 0, 0])\n"
      ],
      "execution_count": null,
      "outputs": []
    },
    {
      "cell_type": "code",
      "metadata": {
        "id": "VHbYryZwsibi",
        "colab_type": "code",
        "colab": {
          "base_uri": "https://localhost:8080/",
          "height": 34
        },
        "outputId": "09163e3c-61f0-4476-ce4b-390f000ef103"
      },
      "source": [
        "# (c)\n",
        "\n",
        "def PROBLEM6(A, b):\n",
        "    # Use the numpy function you found to solve the system of linear equations.\n",
        "    # YOUR CODE GOES HERE\n",
        "    coeffs = np.linalg.solve(A,b)*2\n",
        "\n",
        "\n",
        "    return coeffs\n",
        "\n",
        "# DO NOT MODIFY\n",
        "print(PROBLEM6(A, b))\n"
      ],
      "execution_count": null,
      "outputs": [
        {
          "output_type": "stream",
          "text": [
            "[4. 7. 2. 4.]\n"
          ],
          "name": "stdout"
        }
      ]
    },
    {
      "cell_type": "markdown",
      "metadata": {
        "id": "m5yhBB-LspRG",
        "colab_type": "text"
      },
      "source": [
        "**(d)** write your final, balanced chemical equation (with integers) below.\n",
        "\n",
        "$4$FeS + $7$O$_2$ $\\rightarrow$ $2$Fe$_2$O$_3$ + $4$SO$_2$\n"
      ]
    },
    {
      "cell_type": "code",
      "metadata": {
        "id": "j6rNZBD1jQdy",
        "colab_type": "code",
        "colab": {
          "base_uri": "https://localhost:8080/",
          "height": 34
        },
        "outputId": "c651265f-6d49-4caa-b5c5-9f8842b3b70a"
      },
      "source": [
        "def is_even_num(l):\n",
        "  enum = []\n",
        "  for n in l:\n",
        "    if n % 2 == 0:\n",
        "      enum.append(n)\n",
        "  return enum\n",
        "\n",
        "print(is_even_num([1, 2, 3, 4, 5, 6, 7, 8, 9]))\n"
      ],
      "execution_count": null,
      "outputs": [
        {
          "output_type": "stream",
          "text": [
            "[2, 4, 6, 8]\n"
          ],
          "name": "stdout"
        }
      ]
    }
  ]
}